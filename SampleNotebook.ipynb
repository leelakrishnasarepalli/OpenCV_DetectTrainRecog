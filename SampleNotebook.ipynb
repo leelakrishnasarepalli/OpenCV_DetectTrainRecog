{
 "cells": [
  {
   "cell_type": "code",
   "execution_count": 1,
   "metadata": {},
   "outputs": [],
   "source": [
    "import cv2\n",
    "import numpy as np\n",
    "faceDetect = cv2.CascadeClassifier('haarcascade_frontalface_default.xml');\n",
    "cam = cv2.VideoCapture(0);"
   ]
  },
  {
   "cell_type": "code",
   "execution_count": 2,
   "metadata": {},
   "outputs": [],
   "source": [
    "rec = cv2.face.LBPHFaceRecognizer_create();"
   ]
  },
  {
   "cell_type": "code",
   "execution_count": 3,
   "metadata": {},
   "outputs": [],
   "source": [
    "rec.read(\"recognizer/trainingData.yml\");"
   ]
  },
  {
   "cell_type": "code",
   "execution_count": 4,
   "metadata": {},
   "outputs": [],
   "source": [
    "id=0\n",
    "font=cv2.FONT_HERSHEY_COMPLEX_SMALL"
   ]
  },
  {
   "cell_type": "code",
   "execution_count": 5,
   "metadata": {},
   "outputs": [],
   "source": [
    "while(True):\n",
    "    ret,img=cam.read();\n",
    "    gray=cv2.cvtColor(img,cv2.COLOR_BGR2GRAY)\n",
    "    faces=faceDetect.detectMultiScale(gray,1.3,5);\n",
    "    for(x,y,w,h) in faces:\n",
    "        cv2.rectangle(img,(x,y),(x+w,y+h),(0,0,255),2)\n",
    "        id,conf=rec.predict(gray[y:y+h,x:x+w])\n",
    "        cv2.putText(img,str(id),(x,y+h),font,4,(0,0,255),2,cv2.LINE_AA);\n",
    "    cv2.imshow(\"Face\",img);\n",
    "    if(cv2.waitKey(1)==ord('q')):\n",
    "        break;\n",
    "cam.release()\n",
    "cv2.destroyAllWindows()"
   ]
  },
  {
   "cell_type": "code",
   "execution_count": 1,
   "metadata": {},
   "outputs": [],
   "source": [
    "import cv2\n",
    "import sqlite3\n",
    "\n",
    "\n",
    "def getProfile(id):\n",
    "    conn=sqlite3.connect(\"personinfo.db\")\n",
    "    cmd=\"select * from person where id=\"+str(id)\n",
    "    cursor=conn.execute(cmd)\n",
    "    profile=None\n",
    "    for row in cursor:\n",
    "        profile=row\n",
    "    conn.close()\n",
    "    return profile"
   ]
  },
  {
   "cell_type": "code",
   "execution_count": 2,
   "metadata": {},
   "outputs": [],
   "source": [
    "faceDetect = cv2.CascadeClassifier('haarcascade_frontalface_default.xml');\n",
    "cam = cv2.VideoCapture(0);\n",
    "rec = cv2.face.LBPHFaceRecognizer_create();\n",
    "rec.read(\"recognizer/trainingData.yml\");\n",
    "id=0\n",
    "font=cv2.FONT_HERSHEY_COMPLEX_SMALL"
   ]
  },
  {
   "cell_type": "code",
   "execution_count": 3,
   "metadata": {},
   "outputs": [],
   "source": [
    "while(True):\n",
    "    ret,img=cam.read();\n",
    "    gray=cv2.cvtColor(img,cv2.COLOR_BGR2GRAY)\n",
    "    faces=faceDetect.detectMultiScale(gray,1.3,5);\n",
    "    for(x,y,w,h) in faces:\n",
    "        cv2.rectangle(img,(x,y),(x+w,y+h),(0,0,255),2)\n",
    "        id,conf=rec.predict(gray[y:y+h,x:x+w])\n",
    "        profile=getProfile(id)\n",
    "        if(profile!=None):\n",
    "            cv2.putText(img,str(profile[1]),(x,y+h+30),font,4,(0,0,255),2,cv2.LINE_AA);\n",
    "            cv2.putText(img,str(profile[2]),(x,y+h+60),font,4,(0,0,255),2,cv2.LINE_AA);\n",
    "            cv2.putText(img,str(profile[3]),(x,y+h+90),font,4,(0,0,255),2,cv2.LINE_AA);\n",
    "            cv2.putText(img,str(profile[4]),(x,y+h+120),font,4,(0,0,255),2,cv2.LINE_AA);\n",
    "    cv2.imshow(\"Face\",img);\n",
    "    if(cv2.waitKey(1)==ord('q')):\n",
    "        break;\n",
    "cam.release()\n",
    "cv2.destroyAllWindows()"
   ]
  },
  {
   "cell_type": "code",
   "execution_count": null,
   "metadata": {},
   "outputs": [],
   "source": []
  }
 ],
 "metadata": {
  "kernelspec": {
   "display_name": "Python 3",
   "language": "python",
   "name": "python3"
  },
  "language_info": {
   "codemirror_mode": {
    "name": "ipython",
    "version": 3
   },
   "file_extension": ".py",
   "mimetype": "text/x-python",
   "name": "python",
   "nbconvert_exporter": "python",
   "pygments_lexer": "ipython3",
   "version": "3.6.5"
  }
 },
 "nbformat": 4,
 "nbformat_minor": 2
}
